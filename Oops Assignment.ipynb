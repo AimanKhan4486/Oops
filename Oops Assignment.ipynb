{
 "cells": [
  {
   "cell_type": "markdown",
   "id": "797de82c-60c6-412b-9a0a-767a1b65d914",
   "metadata": {},
   "source": [
    "# THEORITICAL QUESTIONS\n",
    "\n",
    "\n",
    "# Q1. What is Object-Oriented Programming (OOP)?"
   ]
  },
  {
   "cell_type": "markdown",
   "id": "a61e2528-bccf-4ae0-ab03-2c4540d5dd5b",
   "metadata": {},
   "source": [
    "Object-Oriented Programming (OOP) is a programming paradigm based on the concept of “objects”, which can contain data (in the form of fields or attributes) and code (in the form of methods or functions)."
   ]
  },
  {
   "cell_type": "markdown",
   "id": "3e5f0fc3-dda8-4a59-b97e-463caff9bac2",
   "metadata": {},
   "source": [
    "# Q2. What is a class in OOP?"
   ]
  },
  {
   "cell_type": "markdown",
   "id": "4df18769-71f0-48dd-aef6-30d8848e9b09",
   "metadata": {},
   "source": [
    "A class is a blueprint or template for creating objects.\n",
    "\n",
    "It defines attributes (data) and methods (functions) that its objects will have.\n",
    "\n",
    "Think of it like a recipe — it doesn’t make the cake, but it tells you how to make one.\n",
    "\n",
    "Example:"
   ]
  },
  {
   "cell_type": "code",
   "execution_count": 1,
   "id": "3dd86184-431b-41ab-b611-3dd5a9dbc249",
   "metadata": {},
   "outputs": [],
   "source": [
    "class Car:\n",
    "    def __init__(self, brand, color):\n",
    "        self.brand = brand\n",
    "        self.color = color\n",
    "\n",
    "    def drive(self):\n",
    "        print(f\"The {self.color} {self.brand} is driving.\")\n"
   ]
  },
  {
   "cell_type": "markdown",
   "id": "6aa65f16-bd41-4faa-a96e-2b5ae0662f20",
   "metadata": {},
   "source": [
    "# Q3. What is an object in OOP?"
   ]
  },
  {
   "cell_type": "markdown",
   "id": "952a6ec1-6d49-4032-a13a-ec9a54fe760d",
   "metadata": {},
   "source": [
    "An object is an instance of a class.\n",
    "\n",
    "It has real values and can use the methods defined in the class.\n",
    "\n",
    "If a class is a blueprint, an object is the actual product created from that blueprint.\n",
    "\n",
    "Example :"
   ]
  },
  {
   "cell_type": "code",
   "execution_count": 3,
   "id": "bb66a524-7948-408c-aa3d-4c8afb9b0b1b",
   "metadata": {},
   "outputs": [
    {
     "name": "stdout",
     "output_type": "stream",
     "text": [
      "The Red Toyota is driving.\n"
     ]
    }
   ],
   "source": [
    "my_car = Car(\"Toyota\", \"Red\") \n",
    "my_car.drive()  "
   ]
  },
  {
   "cell_type": "markdown",
   "id": "ced9c666-bbfe-4ef3-9713-a53ccb6545f4",
   "metadata": {},
   "source": [
    "# Q4. What is the difference between Abstraction and Encapsulation?"
   ]
  },
  {
   "cell_type": "markdown",
   "id": "2c13e7c5-3243-45e2-b4c7-6ef12b8b125b",
   "metadata": {},
   "source": [
    "# Abstraction:\n",
    "\n",
    "1. Abstraction hides complex internal logic and shows only the essential features to the user.\n",
    "\n",
    "2. It focuses on what an object does, not how it does it.\n",
    "\n",
    "3. The main goal is to reduce complexity and improve code clarity.\n",
    "\n",
    "4. It is implemented using abstract classes or interfaces.\n",
    "\n",
    "5. Example: When you use a smartphone, you just tap icons — you don’t know how the system processes your actions.\n",
    "\n",
    "# Encapsulation:\n",
    "\n",
    "1. Encapsulation hides the internal data of an object and restricts access to it.\n",
    "\n",
    "2. It focuses on how the data is protected from external interference.\n",
    "\n",
    "3. The main goal is to protect data and ensure controlled access.\n",
    "\n",
    "4. It is implemented using access modifiers like private, public, protected.\n",
    "\n",
    "5. Example: You can’t directly access your phone's internal files without permission — they are protected."
   ]
  },
  {
   "cell_type": "markdown",
   "id": "40a45285-deec-4a64-8145-818aeed22b45",
   "metadata": {},
   "source": [
    "# Q5.What are Dunder Methods in Python?"
   ]
  },
  {
   "cell_type": "markdown",
   "id": "823a2864-df29-4807-866d-53c2a81177a3",
   "metadata": {},
   "source": [
    "1. Dunder methods (short for “double underscore”) are special methods in Python.\n",
    "\n",
    "2. They start and end with two underscores, like __init__, __str__, __len__, etc.\n",
    "\n",
    "3. These methods let you define how objects of your class behave with built-in Python operations.\n",
    "\n",
    "Examples:\n",
    "1. __init__() – Called when an object is created (like a constructor).\n",
    "\n",
    "2. __str__() – Defines what is shown when you print an object.\n",
    "\n",
    "3. __add__() – Defines behavior for the + operator.\n",
    "\n",
    "4. __len__() – Called when len() is used on an object."
   ]
  },
  {
   "cell_type": "code",
   "execution_count": 4,
   "id": "dad59831-b309-45b6-9678-a9e17da19ced",
   "metadata": {},
   "outputs": [
    {
     "name": "stdout",
     "output_type": "stream",
     "text": [
      "Book: Python Basics\n"
     ]
    }
   ],
   "source": [
    "class Book:\n",
    "    def __init__(self, title):\n",
    "        self.title = title\n",
    "\n",
    "    def __str__(self):\n",
    "        return f\"Book: {self.title}\"\n",
    "\n",
    "book = Book(\"Python Basics\")\n",
    "print(book)  "
   ]
  },
  {
   "cell_type": "markdown",
   "id": "e4c88d3f-6270-4d01-b0a1-e900c73929f3",
   "metadata": {},
   "source": [
    "# Q6. Explain the Concept of Inheritance in OOP?"
   ]
  },
  {
   "cell_type": "markdown",
   "id": "83d64289-74d7-4549-b0ca-8553bfceb842",
   "metadata": {},
   "source": [
    "1. Inheritance allows a class (child class) to inherit properties and methods from another class (parent class).\n",
    "\n",
    "2. It promotes code reuse and creates a relationship between classes.\n",
    "\n",
    "Example:"
   ]
  },
  {
   "cell_type": "code",
   "execution_count": 6,
   "id": "0b3c7e31-b58a-40a8-8f86-e889b1cfa8db",
   "metadata": {},
   "outputs": [
    {
     "name": "stdout",
     "output_type": "stream",
     "text": [
      "Animal speaks\n",
      "Dog barks\n"
     ]
    }
   ],
   "source": [
    "class Animal:  \n",
    "    def speak(self):\n",
    "        print(\"Animal speaks\")\n",
    "\n",
    "class Dog(Animal):  \n",
    "    def bark(self):\n",
    "        print(\"Dog barks\")\n",
    "\n",
    "d = Dog()\n",
    "d.speak()  \n",
    "d.bark()   "
   ]
  },
  {
   "cell_type": "markdown",
   "id": "f5635824-de2b-410e-b6d1-7295b78847ef",
   "metadata": {},
   "source": [
    "# Q7. What is Polymorphism in OOP?"
   ]
  },
  {
   "cell_type": "markdown",
   "id": "f8cd851b-781a-4236-8729-1d50dd0a3776",
   "metadata": {},
   "source": [
    "1. Polymorphism means \"many forms\".\n",
    "\n",
    "2. It allows different classes to be treated as the same type through a common interface.\n",
    "\n",
    "3. It also means a method can behave differently depending on the object calling it.\n",
    "\n",
    "Example:"
   ]
  },
  {
   "cell_type": "code",
   "execution_count": 8,
   "id": "9e919c39-f42e-4edb-b065-b985182bd52b",
   "metadata": {},
   "outputs": [
    {
     "name": "stdout",
     "output_type": "stream",
     "text": [
      "Chirp\n",
      "Meow\n"
     ]
    }
   ],
   "source": [
    "class Bird:\n",
    "    def sound(self):\n",
    "        print(\"Chirp\")\n",
    "\n",
    "class Cat:\n",
    "    def sound(self):\n",
    "        print(\"Meow\")\n",
    "\n",
    "def make_sound(animal):\n",
    "    animal.sound()\n",
    "\n",
    "b = Bird()\n",
    "c = Cat()\n",
    "\n",
    "make_sound(b)  \n",
    "make_sound(c)  "
   ]
  },
  {
   "cell_type": "markdown",
   "id": "8ba9fa63-5d37-4919-bae3-12510faeb195",
   "metadata": {},
   "source": [
    "# Q8. How is encapsulation achieved in Python?"
   ]
  },
  {
   "cell_type": "markdown",
   "id": "504a8f4b-827e-484c-b0f5-c451975411cd",
   "metadata": {},
   "source": [
    "Encapsulation is achieved in Python by:\n",
    "\n",
    "1. Making attributes private or protected using underscores:\n",
    "\n",
    "_variable → protected (suggested as non-public)\n",
    "\n",
    "__variable → private (name mangled to avoid direct access)\n",
    "\n",
    "2. Using getter and setter methods to control access to private data.\n",
    "\n",
    "Example:"
   ]
  },
  {
   "cell_type": "code",
   "execution_count": 9,
   "id": "8a74a305-8fd4-4047-92c8-b46109615007",
   "metadata": {},
   "outputs": [
    {
     "name": "stdout",
     "output_type": "stream",
     "text": [
      "20\n",
      "22\n"
     ]
    }
   ],
   "source": [
    "class Student:\n",
    "    def __init__(self, name, age):\n",
    "        self.__name = name       \n",
    "        self.__age = age         \n",
    "\n",
    "    def get_age(self):           \n",
    "        return self.__age\n",
    "\n",
    "    def set_age(self, age):      \n",
    "        if age > 0:\n",
    "            self.__age = age\n",
    "\n",
    "s = Student(\"Aiman\", 20)\n",
    "print(s.get_age())     \n",
    "s.set_age(22)\n",
    "print(s.get_age())     \n"
   ]
  },
  {
   "cell_type": "markdown",
   "id": "b28ca1ce-740c-479d-9411-70363bf4875c",
   "metadata": {},
   "source": [
    "# Q9. What is a Constructor in Python?"
   ]
  },
  {
   "cell_type": "markdown",
   "id": "54e37bb8-7ed1-47be-a70b-f28f5b21624c",
   "metadata": {},
   "source": [
    "1. A constructor is a special method called __init__() in Python.\n",
    "\n",
    "2. It is automatically executed when a new object is created.\n",
    "\n",
    "3. Its main job is to initialize object attributes.\n",
    "\n",
    "Example:"
   ]
  },
  {
   "cell_type": "code",
   "execution_count": 10,
   "id": "f1d98d2d-2eba-451c-8629-e3e944e84b53",
   "metadata": {},
   "outputs": [
    {
     "name": "stdout",
     "output_type": "stream",
     "text": [
      "Honda\n"
     ]
    }
   ],
   "source": [
    "class Car:\n",
    "    def __init__(self, brand, color):  \n",
    "        self.brand = brand\n",
    "        self.color = color\n",
    "\n",
    "car1 = Car(\"Honda\", \"Blue\")  \n",
    "print(car1.brand) \n"
   ]
  },
  {
   "cell_type": "markdown",
   "id": "873c448a-8d89-4217-8e58-3b967e2c6f79",
   "metadata": {},
   "source": [
    "# Q10. What are Class and Static Methods in Python?"
   ]
  },
  {
   "cell_type": "markdown",
   "id": "a6286982-672d-4d0f-9dfc-180a0d7166af",
   "metadata": {},
   "source": [
    "# Class Method:\n",
    "\n",
    "1. Defined with @classmethod decorator.\n",
    "\n",
    "2. Takes cls as the first parameter.\n",
    "\n",
    "3. Can access or modify class-level data (shared across all objects).\n",
    "\n",
    "# Static Method:\n",
    "\n",
    "1. Defined with @staticmethod decorator.\n",
    "\n",
    "2. Takes no self or cls.\n",
    "\n",
    "3. Can’t access instance or class data.\n",
    "\n",
    "4. Used for utility functions related to the class.\n",
    "\n",
    "Example:"
   ]
  },
  {
   "cell_type": "code",
   "execution_count": 11,
   "id": "89324c2e-0a09-46cc-b858-0266c10c456b",
   "metadata": {},
   "outputs": [
    {
     "name": "stdout",
     "output_type": "stream",
     "text": [
      "Count is now: 1\n",
      "8\n"
     ]
    }
   ],
   "source": [
    "class MathUtils:\n",
    "    count = 0\n",
    "\n",
    "    @classmethod\n",
    "    def increment(cls):\n",
    "        cls.count += 1\n",
    "        print(f\"Count is now: {cls.count}\")\n",
    "\n",
    "    @staticmethod\n",
    "    def add(x, y):\n",
    "        return x + y\n",
    "\n",
    "MathUtils.increment()        \n",
    "print(MathUtils.add(5, 3))  "
   ]
  },
  {
   "cell_type": "markdown",
   "id": "7c635c68-a8c8-4b37-ab91-26c2f99bec19",
   "metadata": {},
   "source": [
    "# Q11. What is Method Overloading in Python?"
   ]
  },
  {
   "cell_type": "markdown",
   "id": "c70e000f-8ca3-456c-8869-a257fe4255e6",
   "metadata": {},
   "source": [
    "Method Overloading means defining multiple methods with the same name but different arguments (like in Java or C++).\n",
    "\n",
    "1. Python does NOT support true method overloading directly.\n",
    "2. However, it can be mimicked using default arguments or *args and **kwargs.\n",
    "\n",
    "Example using default arguments:"
   ]
  },
  {
   "cell_type": "code",
   "execution_count": 12,
   "id": "fdb2b9cf-b325-4776-a993-10eb79ad20f2",
   "metadata": {},
   "outputs": [
    {
     "name": "stdout",
     "output_type": "stream",
     "text": [
      "Hello!\n",
      "Hello, Aiman!\n"
     ]
    }
   ],
   "source": [
    "class Greet:\n",
    "    def hello(self, name=None):\n",
    "        if name:\n",
    "            print(f\"Hello, {name}!\")\n",
    "        else:\n",
    "            print(\"Hello!\")\n",
    "\n",
    "g = Greet()\n",
    "g.hello()         \n",
    "g.hello(\"Aiman\")  "
   ]
  },
  {
   "cell_type": "markdown",
   "id": "fc6bba56-ac6c-4ae4-883e-9e3370da9e44",
   "metadata": {},
   "source": [
    "# Q12. What is Method Overriding in OOP?"
   ]
  },
  {
   "cell_type": "markdown",
   "id": "f0b1b484-423d-4f43-b0f7-81cc352d2eaa",
   "metadata": {},
   "source": [
    "Method Overriding occurs when a child class redefines a method from its parent class.\n",
    "\n",
    "1. The method name and parameters must match exactly.\n",
    "2. Used to change or extend behavior from the base class.\n",
    "\n",
    "Example:"
   ]
  },
  {
   "cell_type": "code",
   "execution_count": 14,
   "id": "80b04361-a116-4df6-806d-33948defd294",
   "metadata": {},
   "outputs": [
    {
     "name": "stdout",
     "output_type": "stream",
     "text": [
      "Dog barks\n"
     ]
    }
   ],
   "source": [
    "class Animal:\n",
    "    def speak(self):\n",
    "        print(\"Animal speaks\")\n",
    "\n",
    "class Dog(Animal):\n",
    "    def speak(self):  \n",
    "        print(\"Dog barks\")\n",
    "\n",
    "d = Dog()\n",
    "d.speak()  "
   ]
  },
  {
   "cell_type": "markdown",
   "id": "e2f3623b-076a-408b-87ad-b68b12cf0525",
   "metadata": {},
   "source": [
    "# Q13. What is a Property Decorator in Python?"
   ]
  },
  {
   "cell_type": "markdown",
   "id": "007ff7f1-be41-4c7f-9cc1-dbac29f0a9cc",
   "metadata": {},
   "source": [
    "The @property decorator is used to make a method behave like an attribute.\n",
    "\n",
    "1. Allows controlled access to private variables.\n",
    "2. You can define getter, setter, and deleter using decorators.\n",
    "\n",
    "Example:"
   ]
  },
  {
   "cell_type": "code",
   "execution_count": 15,
   "id": "52896cdd-6f5b-4c4e-960f-886f47faae4c",
   "metadata": {},
   "outputs": [
    {
     "name": "stdout",
     "output_type": "stream",
     "text": [
      "Aiman\n",
      "Khan\n"
     ]
    }
   ],
   "source": [
    " class Person:\n",
    "    def __init__(self, name):\n",
    "        self.__name = name\n",
    "\n",
    "    @property\n",
    "    def name(self):           \n",
    "        return self.__name\n",
    "\n",
    "    @name.setter\n",
    "    def name(self, value):    \n",
    "        if value:\n",
    "            self.__name = value\n",
    "\n",
    "p = Person(\"Aiman\")\n",
    "print(p.name)   \n",
    "p.name = \"Khan\"   \n",
    "print(p.name)     "
   ]
  },
  {
   "cell_type": "markdown",
   "id": "6be2103e-1e86-4786-b396-43237ee2a760",
   "metadata": {},
   "source": [
    "# Q14. Why is polymorphism important in OOP?"
   ]
  },
  {
   "cell_type": "markdown",
   "id": "3171a9c6-6719-4c8d-81a3-2d204e6ef61b",
   "metadata": {},
   "source": [
    "Polymorphism (meaning “many forms”) is important in OOP because:\n",
    "\n",
    "1. Simplifies Code: You can use a single function or method to work with different types of objects.\n",
    "\n",
    "2. Increases Flexibility: Allows objects of different classes to be treated the same way if they share a common interface.\n",
    "\n",
    "3. Promotes Reusability: You can reuse code with different types of objects.\n",
    "\n",
    "4. Supports Extensibility: Easy to add new classes that can work with existing functions.\n",
    "\n",
    "5. Enables Dynamic Behavior: Behavior can change at runtime depending on the object.\n",
    "\n",
    "Example:"
   ]
  },
  {
   "cell_type": "code",
   "execution_count": 16,
   "id": "26246e14-f0d4-4368-9441-e6e56fc2811b",
   "metadata": {},
   "outputs": [
    {
     "name": "stdout",
     "output_type": "stream",
     "text": [
      "Chirp\n",
      "Bark\n"
     ]
    }
   ],
   "source": [
    "class Bird:\n",
    "    def speak(self):\n",
    "        print(\"Chirp\")\n",
    "\n",
    "class Dog:\n",
    "    def speak(self):\n",
    "        print(\"Bark\")\n",
    "\n",
    "def make_sound(animal):\n",
    "    animal.speak()\n",
    "\n",
    "make_sound(Bird())  \n",
    "make_sound(Dog())   "
   ]
  },
  {
   "cell_type": "markdown",
   "id": "f17ec19b-2872-4946-ac4e-38bf0f0d3ca6",
   "metadata": {},
   "source": [
    "# Q15. What is an Abstract Class in Python?"
   ]
  },
  {
   "cell_type": "markdown",
   "id": "e6462fe0-3bc9-4fb8-ae51-17106b2eda53",
   "metadata": {},
   "source": [
    "An abstract class is a class that cannot be instantiated and is meant to be inherited by other classes.\n",
    "\n",
    "1. It can contain abstract methods, which are methods declared but not implemented in the abstract class.\n",
    "\n",
    "2. Use the abc module and the @abstractmethod decorator.\n",
    "\n",
    "Example:"
   ]
  },
  {
   "cell_type": "code",
   "execution_count": 17,
   "id": "b508e673-9e0c-4ce2-8565-fc9fbca325f5",
   "metadata": {},
   "outputs": [
    {
     "name": "stdout",
     "output_type": "stream",
     "text": [
      "Meow\n"
     ]
    }
   ],
   "source": [
    "from abc import ABC, abstractmethod\n",
    "\n",
    "class Animal(ABC):  \n",
    "    @abstractmethod\n",
    "    def sound(self):\n",
    "        pass\n",
    "\n",
    "class Cat(Animal):\n",
    "    def sound(self):\n",
    "        print(\"Meow\")\n",
    "\n",
    "c = Cat()\n",
    "c.sound()  "
   ]
  },
  {
   "cell_type": "markdown",
   "id": "281ad3fc-9d73-4bf5-beb8-12382480d768",
   "metadata": {},
   "source": [
    "# Q16. What Are the Advantages of OOP?"
   ]
  },
  {
   "cell_type": "markdown",
   "id": "e3e87bba-ee0f-46c9-bd37-409b301f79e0",
   "metadata": {},
   "source": [
    "Here are the main advantages of Object-Oriented Programming (OOP):\n",
    "\n",
    "## 1. Modularity:\n",
    "   Code is divided into classes and objects, making it organized and easy to manage.\n",
    "\n",
    "## 2. Reusability:\n",
    "   Inheritance allows code reuse, reducing duplication.\n",
    "\n",
    "## 3. Flexibility and Scalability: \n",
    "   Easy to extend and scale up by adding new classes.\n",
    "\n",
    "## 4. Maintainability:\n",
    "   Encapsulation helps in maintaining and updating code with minimal changes.\n",
    "\n",
    "## 5. Data Security:\n",
    "   Data hiding ensures that internal data is protected and accessed only through proper methods.\n",
    "\n",
    "## 6. Real-world Modeling:\n",
    "   OOP models real-world entities, making programs easier to understand and design"
   ]
  },
  {
   "cell_type": "markdown",
   "id": "87abcc11-5858-43e3-b1e7-2167d168cd9b",
   "metadata": {},
   "source": [
    "# Q17. What is the Difference Between a Class Variable and an Instance Variable?"
   ]
  },
  {
   "cell_type": "markdown",
   "id": "7fe8a9de-e24e-49c5-96b5-b3c20d70e222",
   "metadata": {},
   "source": [
    "## Instance Variable:\n",
    "\n",
    "Belongs to a specific object (instance).\n",
    "\n",
    "Defined inside the __init__() method using self.variable.\n",
    "\n",
    "Each object can have a different value for the same variable.\n",
    "\n",
    "## Class Variable: \n",
    "\n",
    "Belongs to the class itself, shared by all instances.\n",
    "\n",
    "Defined outside any instance methods, usually at the top of the class.\n",
    "\n",
    "Same value shared across all objects unless explicitly overridden.\n",
    "\n",
    "Example:"
   ]
  },
  {
   "cell_type": "code",
   "execution_count": 18,
   "id": "2d598288-ab35-44df-be13-f2611641dbbf",
   "metadata": {},
   "outputs": [
    {
     "name": "stdout",
     "output_type": "stream",
     "text": [
      "Aiman\n",
      "Khan\n",
      "ABC School\n",
      "ABC School\n"
     ]
    }
   ],
   "source": [
    "class Student:\n",
    "    school = \"ABC School\"  \n",
    "\n",
    "    def __init__(self, name):\n",
    "        self.name = name   \n",
    "\n",
    "s1 = Student(\"Aiman\")\n",
    "s2 = Student(\"Khan\")\n",
    "\n",
    "print(s1.name)    \n",
    "print(s2.name)    \n",
    "print(s1.school)  \n",
    "print(s2.school)  "
   ]
  },
  {
   "cell_type": "markdown",
   "id": "22f03438-321e-4bf3-8497-524edbfce69d",
   "metadata": {},
   "source": [
    "# Q18. What is Multiple Inheritance in Python?"
   ]
  },
  {
   "cell_type": "markdown",
   "id": "0b82c53a-9456-4a0c-9a4c-e7f73f14bdbf",
   "metadata": {},
   "source": [
    "Multiple Inheritance is when a class inherits from more than one parent class.\n",
    "\n",
    "Syntax:"
   ]
  },
  {
   "cell_type": "code",
   "execution_count": 19,
   "id": "af3dc488-3c2b-45cc-81fa-67bd659b4d1c",
   "metadata": {},
   "outputs": [
    {
     "name": "stdout",
     "output_type": "stream",
     "text": [
      "A\n",
      "B\n"
     ]
    }
   ],
   "source": [
    "class A:\n",
    "    def method_a(self):\n",
    "        print(\"A\")\n",
    "\n",
    "class B:\n",
    "    def method_b(self):\n",
    "        print(\"B\")\n",
    "\n",
    "class C(A, B):  \n",
    "    pass\n",
    "\n",
    "c = C()\n",
    "c.method_a()  \n",
    "c.method_b() \n"
   ]
  },
  {
   "cell_type": "markdown",
   "id": "79672208-dfdc-4daf-a6f2-e425ab1502bf",
   "metadata": {},
   "source": [
    "# Q19. Explain the Purpose of __str__() and __repr__() in Python"
   ]
  },
  {
   "cell_type": "markdown",
   "id": "36767413-2eaf-4363-90d4-97c634c8cbec",
   "metadata": {},
   "source": [
    "Both are dunder (double underscore) methods used to define how objects are represented as strings, but they serve different purposes.\n",
    "\n",
    "# __str__():\n",
    "\n",
    "1. Used by print() and str() to give a user-friendly string representation.\n",
    "\n",
    "2. Meant for end users.\n",
    "\n",
    "# __repr__():\n",
    "\n",
    "1. Used by repr() and when you just type the object in the interpreter.\n",
    "\n",
    "2. Should return a string that can recreate the object.\n",
    "\n",
    "3. Meant for developers.\n",
    "\n",
    "Example:"
   ]
  },
  {
   "cell_type": "code",
   "execution_count": 20,
   "id": "6d7df7fb-2ac7-4d7f-89ac-6b8146d098aa",
   "metadata": {},
   "outputs": [
    {
     "name": "stdout",
     "output_type": "stream",
     "text": [
      "Book title: Python Basics\n",
      "Book('Python Basics')\n"
     ]
    }
   ],
   "source": [
    "class Book:\n",
    "    def __init__(self, title):\n",
    "        self.title = title\n",
    "\n",
    "    def __str__(self):\n",
    "        return f\"Book title: {self.title}\"  \n",
    "\n",
    "    def __repr__(self):\n",
    "        return f\"Book('{self.title}')\"      \n",
    "\n",
    "b = Book(\"Python Basics\")\n",
    "print(str(b))     \n",
    "print(repr(b))    "
   ]
  },
  {
   "cell_type": "markdown",
   "id": "0dade27f-4e01-4e94-a7dc-244e751254e7",
   "metadata": {},
   "source": [
    "# Q20. What is the Significance of the super() Function in Python?"
   ]
  },
  {
   "cell_type": "markdown",
   "id": "11e4043d-1a40-40dd-9d5a-5ada796ae03a",
   "metadata": {},
   "source": [
    "1. super() is used to call methods from a parent (super) class.\n",
    "\n",
    "2. It is commonly used inside inherited classes to extend or modify parent behavior without rewriting it.\n",
    "\n",
    "3. Helps in code reuse, especially in inheritance and method overriding.\n",
    "\n",
    "Example:"
   ]
  },
  {
   "cell_type": "code",
   "execution_count": 21,
   "id": "c9f00ff2-a091-474f-a4d8-4973a31befda",
   "metadata": {},
   "outputs": [
    {
     "name": "stdout",
     "output_type": "stream",
     "text": [
      "Hello from Parent\n",
      "Hello from Child\n"
     ]
    }
   ],
   "source": [
    "class Parent:\n",
    "    def greet(self):\n",
    "        print(\"Hello from Parent\")\n",
    "\n",
    "class Child(Parent):\n",
    "    def greet(self):\n",
    "        super().greet()  \n",
    "        print(\"Hello from Child\")\n",
    "\n",
    "c = Child()\n",
    "c.greet()"
   ]
  },
  {
   "cell_type": "markdown",
   "id": "a93e6ff7-8b56-4a72-96da-3bbdb27c1b6a",
   "metadata": {},
   "source": [
    "# Q21. What is the Significance of the __del__ Method in Python?"
   ]
  },
  {
   "cell_type": "markdown",
   "id": "828cf7fb-ce46-4981-9dd5-9499e8a4b56e",
   "metadata": {},
   "source": [
    "1. __del__() is a destructor method.\n",
    "\n",
    "2. It is called automatically when an object is about to be destroyed (i.e., garbage collected).\n",
    "\n",
    "3. Useful for cleanup operations like closing files or releasing resources.\n",
    "\n",
    "Example:"
   ]
  },
  {
   "cell_type": "code",
   "execution_count": 22,
   "id": "9d9e0faa-f3f6-42a2-a88e-ca8e67c217c4",
   "metadata": {},
   "outputs": [
    {
     "name": "stdout",
     "output_type": "stream",
     "text": [
      "Opening file: data.txt\n",
      "Closing file: data.txt\n"
     ]
    }
   ],
   "source": [
    "class FileHandler:\n",
    "    def __init__(self, name):\n",
    "        self.name = name\n",
    "        print(f\"Opening file: {self.name}\")\n",
    "\n",
    "    def __del__(self):\n",
    "        print(f\"Closing file: {self.name}\")\n",
    "\n",
    "f = FileHandler(\"data.txt\")\n",
    "del f  "
   ]
  },
  {
   "cell_type": "markdown",
   "id": "023a0dfc-3f48-4922-9c15-6f46dc99ac1a",
   "metadata": {},
   "source": [
    "# Q22. Difference Between @staticmethod and @classmethod in Python."
   ]
  },
  {
   "cell_type": "markdown",
   "id": "f3afa52a-b5b2-4dd2-9d0e-902234b17cc8",
   "metadata": {},
   "source": [
    "## @staticmethod:\n",
    "\n",
    "1. Doesn't take self or cls as an argument.\n",
    "2. Cannot access or modify class or instance attributes.\n",
    "3. Used for utility/helper methods.\n",
    "\n",
    "## @classmethod:\n",
    "\n",
    "1. Takes cls as the first argument.\n",
    "2. Can access and modify class-level variables.\n",
    "3. Often used to define factory methods.\n",
    "\n",
    "Example:"
   ]
  },
  {
   "cell_type": "code",
   "execution_count": 23,
   "id": "71360021-d81d-48c2-85a5-d183dd13544a",
   "metadata": {},
   "outputs": [
    {
     "name": "stdout",
     "output_type": "stream",
     "text": [
      "8\n",
      "1\n"
     ]
    }
   ],
   "source": [
    "class Example:\n",
    "    count = 0\n",
    "\n",
    "    @staticmethod\n",
    "    def add(x, y):\n",
    "        return x + y\n",
    "\n",
    "    @classmethod\n",
    "    def increment(cls):\n",
    "        cls.count += 1\n",
    "\n",
    "print(Example.add(5, 3))  \n",
    "Example.increment()\n",
    "print(Example.count)      "
   ]
  },
  {
   "cell_type": "markdown",
   "id": "282fd266-815c-4412-83cd-5bf52e5c4109",
   "metadata": {},
   "source": [
    "# Q23. How Does Polymorphism Work in Python with Inheritance?"
   ]
  },
  {
   "cell_type": "markdown",
   "id": "89d56539-673f-4d46-a5a9-e19e53e31256",
   "metadata": {},
   "source": [
    "Polymorphism allows the same method name to behave differently depending on the class that implements it. When used with inheritance, it enables child classes to override parent methods, providing their own implementation.\n",
    "\n",
    "Example:"
   ]
  },
  {
   "cell_type": "code",
   "execution_count": 24,
   "id": "9f4583dd-4631-404c-8ca1-a8a28350e5e1",
   "metadata": {},
   "outputs": [
    {
     "name": "stdout",
     "output_type": "stream",
     "text": [
      "Dog barks\n",
      "Cat meows\n"
     ]
    }
   ],
   "source": [
    "class Animal:\n",
    "    def speak(self):\n",
    "        print(\"Animal speaks\")\n",
    "\n",
    "class Dog(Animal):\n",
    "    def speak(self):\n",
    "        print(\"Dog barks\")\n",
    "\n",
    "class Cat(Animal):\n",
    "    def speak(self):\n",
    "        print(\"Cat meows\")\n",
    "\n",
    "def make_sound(animal):\n",
    "    animal.speak()  \n",
    "\n",
    "make_sound(Dog())  \n",
    "make_sound(Cat())  "
   ]
  },
  {
   "cell_type": "markdown",
   "id": "6b06dfc2-0fb2-4bca-ba12-7183069b42f9",
   "metadata": {},
   "source": [
    "# Q24. What is Method Chaining in Python OOP?"
   ]
  },
  {
   "cell_type": "markdown",
   "id": "9d7a8743-ff16-451d-9dfc-1e930a542a3f",
   "metadata": {},
   "source": [
    "Method chaining means calling multiple methods on the same object in a single line, one after the other.\n",
    "\n",
    "For this to work, each method must return self (the current object).\n",
    "\n",
    "Example:"
   ]
  },
  {
   "cell_type": "code",
   "execution_count": 27,
   "id": "0afeff9e-6a6f-4ee5-b6f2-2376173384e3",
   "metadata": {},
   "outputs": [
    {
     "name": "stdout",
     "output_type": "stream",
     "text": [
      "Result: 10\n"
     ]
    },
    {
     "data": {
      "text/plain": [
       "<__main__.Calculator at 0x2ef6cd98860>"
      ]
     },
     "execution_count": 27,
     "metadata": {},
     "output_type": "execute_result"
    }
   ],
   "source": [
    "class Calculator:\n",
    "    def __init__(self, value=0):\n",
    "        self.value = value\n",
    "\n",
    "    def add(self, num):\n",
    "        self.value += num\n",
    "        return self \n",
    "\n",
    "    def multiply(self, num):\n",
    "        self.value *= num\n",
    "        return self\n",
    "\n",
    "    def display(self):\n",
    "        print(f\"Result: {self.value}\")\n",
    "        return self\n",
    "\n",
    "# Method chaining\n",
    "calc = Calculator()\n",
    "calc.add(5).multiply(2).display()  "
   ]
  },
  {
   "cell_type": "markdown",
   "id": "2f3e4279-1647-4918-a3d2-06407656e1db",
   "metadata": {},
   "source": [
    "# Q25. What is the Purpose of the __call__() Method in Python?"
   ]
  },
  {
   "cell_type": "markdown",
   "id": "0f178c3e-b865-4402-ab33-789352ac5860",
   "metadata": {},
   "source": [
    "The __call__() method allows an object to be called like a function.\n",
    "\n",
    "If a class defines __call__(), then its instances behave like functions.\n",
    "\n",
    "Example:"
   ]
  },
  {
   "cell_type": "code",
   "execution_count": 29,
   "id": "5c15c5fd-3985-4f01-884f-b75f0bb09c31",
   "metadata": {},
   "outputs": [
    {
     "name": "stdout",
     "output_type": "stream",
     "text": [
      "Hello, Aiman!\n"
     ]
    }
   ],
   "source": [
    "class Greeter:\n",
    "    def __init__(self, name):\n",
    "        self.name = name\n",
    "\n",
    "    def __call__(self, greeting):\n",
    "        return f\"{greeting}, {self.name}!\"\n",
    "\n",
    "g = Greeter(\"Aiman\")\n",
    "print(g(\"Hello\"))  "
   ]
  },
  {
   "cell_type": "markdown",
   "id": "1d803bec-6ce3-473b-87b5-31d196620152",
   "metadata": {},
   "source": [
    "# PRACTICAL QUESTIONS\n",
    "\n",
    "\n",
    "# Q1. Create a parent class Animal with a method speak() that prints a generic message. Create a child class Dog that overrides the speak() method to print \"Bark!\"."
   ]
  },
  {
   "cell_type": "code",
   "execution_count": 1,
   "id": "d5704f1f-e472-4fd6-bbe4-a6cacdd3d1ac",
   "metadata": {},
   "outputs": [
    {
     "name": "stdout",
     "output_type": "stream",
     "text": [
      "The animal makes a sound.\n",
      "Bark!\n"
     ]
    }
   ],
   "source": [
    "class Animal:\n",
    "    def speak(self):\n",
    "        print(\"The animal makes a sound.\")\n",
    "\n",
    "class Dog(Animal):\n",
    "    def speak(self):\n",
    "        print(\"Bark!\")\n",
    "\n",
    "# Test\n",
    "a = Animal()\n",
    "a.speak()     \n",
    "\n",
    "d = Dog()\n",
    "d.speak()     "
   ]
  },
  {
   "cell_type": "markdown",
   "id": "23176f2d-00b5-4be3-b2c2-192001b4665a",
   "metadata": {},
   "source": [
    "# Q2. Write a program to create an abstract class Shape with a method area(). Derive classes Circle and Rectangle from it and implement the area() method in both."
   ]
  },
  {
   "cell_type": "code",
   "execution_count": 2,
   "id": "b7b3936e-ea7d-4cbb-8e9a-0190f6fd1bb8",
   "metadata": {},
   "outputs": [
    {
     "name": "stdout",
     "output_type": "stream",
     "text": [
      "Circle area: 78.53981633974483\n",
      "Rectangle area: 24\n"
     ]
    }
   ],
   "source": [
    "from abc import ABC, abstractmethod\n",
    "import math\n",
    "\n",
    "class Shape(ABC):\n",
    "    @abstractmethod\n",
    "    def area(self):\n",
    "        pass\n",
    "\n",
    "class Circle(Shape):\n",
    "    def __init__(self, radius):\n",
    "        self.radius = radius\n",
    "\n",
    "    def area(self):\n",
    "        return math.pi * self.radius ** 2\n",
    "\n",
    "class Rectangle(Shape):\n",
    "    def __init__(self, length, width):\n",
    "        self.length = length\n",
    "        self.width = width\n",
    "\n",
    "    def area(self):\n",
    "        return self.length * self.width\n",
    "\n",
    "# Test\n",
    "c = Circle(5)\n",
    "print(\"Circle area:\", c.area())  \n",
    "\n",
    "r = Rectangle(4, 6)\n",
    "print(\"Rectangle area:\", r.area()) "
   ]
  },
  {
   "cell_type": "markdown",
   "id": "b7bf8ecb-a087-4487-adad-1a490b2432b8",
   "metadata": {},
   "source": [
    "# Q3. Implement a multi-level inheritance scenario where a class Vehicle has an attribute type. Derive a class Car and further derive a class ElectricCar that adds a battery attribute."
   ]
  },
  {
   "cell_type": "code",
   "execution_count": 3,
   "id": "4c9609ea-d1c7-4b07-b581-7d0041b9f345",
   "metadata": {},
   "outputs": [
    {
     "name": "stdout",
     "output_type": "stream",
     "text": [
      "Type: Electric\n",
      "Brand: Tesla\n",
      "Battery Capacity: 75 kWh\n"
     ]
    }
   ],
   "source": [
    "class Vehicle:\n",
    "    def __init__(self, vehicle_type):\n",
    "        self.vehicle_type = vehicle_type\n",
    "\n",
    "class Car(Vehicle):\n",
    "    def __init__(self, vehicle_type, brand):\n",
    "        super().__init__(vehicle_type)\n",
    "        self.brand = brand\n",
    "\n",
    "class ElectricCar(Car):\n",
    "    def __init__(self, vehicle_type, brand, battery_capacity):\n",
    "        super().__init__(vehicle_type, brand)\n",
    "        self.battery_capacity = battery_capacity\n",
    "\n",
    "    def display_info(self):\n",
    "        print(f\"Type: {self.vehicle_type}\")\n",
    "        print(f\"Brand: {self.brand}\")\n",
    "        print(f\"Battery Capacity: {self.battery_capacity} kWh\")\n",
    "\n",
    "# Test\n",
    "e_car = ElectricCar(\"Electric\", \"Tesla\", 75)\n",
    "e_car.display_info()"
   ]
  },
  {
   "cell_type": "markdown",
   "id": "83be8220-7d7f-4aa9-a512-eecefe7d8d60",
   "metadata": {},
   "source": [
    "# Q4. Demonstrate polymorphism by creating a base class Bird with a method fly(). Create two derived classes Sparrow and Penguin that override the fly() method."
   ]
  },
  {
   "cell_type": "code",
   "execution_count": 4,
   "id": "11b1483a-8224-43ac-86a8-55f7df05d67f",
   "metadata": {},
   "outputs": [
    {
     "name": "stdout",
     "output_type": "stream",
     "text": [
      "Sparrow flies high in the sky.\n",
      "Penguins cannot fly, they swim.\n"
     ]
    }
   ],
   "source": [
    "class Bird:\n",
    "    def fly(self):\n",
    "        print(\"Some birds can fly.\")\n",
    "\n",
    "class Sparrow(Bird):\n",
    "    def fly(self):\n",
    "        print(\"Sparrow flies high in the sky.\")\n",
    "\n",
    "class Penguin(Bird):\n",
    "    def fly(self):\n",
    "        print(\"Penguins cannot fly, they swim.\")\n",
    "\n",
    "# Demonstrating polymorphism\n",
    "def bird_flight(bird):\n",
    "    bird.fly()\n",
    "\n",
    "b1 = Sparrow()\n",
    "b2 = Penguin()\n",
    "\n",
    "bird_flight(b1)  \n",
    "bird_flight(b2)  "
   ]
  },
  {
   "cell_type": "markdown",
   "id": "3d46e0d2-7920-4bf7-a62f-f8818010252b",
   "metadata": {},
   "source": [
    "# Q5. Write a program to demonstrate encapsulation by creating a class BankAccount with private attributes balance and methods to deposit, withdraw, and check balance."
   ]
  },
  {
   "cell_type": "code",
   "execution_count": 5,
   "id": "6e8249b1-1d79-46b6-a59b-aa575fab9a84",
   "metadata": {},
   "outputs": [
    {
     "name": "stdout",
     "output_type": "stream",
     "text": [
      "Deposited: 500\n",
      "Withdrawn: 300\n",
      "Current Balance: 1200\n"
     ]
    }
   ],
   "source": [
    "class BankAccount:\n",
    "    def __init__(self, initial_balance=0):\n",
    "        self.__balance = initial_balance \n",
    "\n",
    "    def deposit(self, amount):\n",
    "        if amount > 0:\n",
    "            self.__balance += amount\n",
    "            print(f\"Deposited: {amount}\")\n",
    "        else:\n",
    "            print(\"Invalid deposit amount\")\n",
    "\n",
    "    def withdraw(self, amount):\n",
    "        if 0 < amount <= self.__balance:\n",
    "            self.__balance -= amount\n",
    "            print(f\"Withdrawn: {amount}\")\n",
    "        else:\n",
    "            print(\"Insufficient balance or invalid amount\")\n",
    "\n",
    "    def check_balance(self):\n",
    "        print(f\"Current Balance: {self.__balance}\")\n",
    "\n",
    "# Test\n",
    "acc = BankAccount(1000)\n",
    "acc.deposit(500)\n",
    "acc.withdraw(300)\n",
    "acc.check_balance()"
   ]
  },
  {
   "cell_type": "markdown",
   "id": "348ba364-753f-4278-aa90-f580bebd66b9",
   "metadata": {},
   "source": [
    "# Q6. Demonstrate runtime polymorphism using a method play() in a base class Instrument. Derive classes Guitarand Piano that implement their own version of play()."
   ]
  },
  {
   "cell_type": "code",
   "execution_count": 6,
   "id": "330bc16c-9e54-4ba2-a429-f4b667e6324d",
   "metadata": {},
   "outputs": [
    {
     "name": "stdout",
     "output_type": "stream",
     "text": [
      "Strumming the guitar\n",
      "Playing the piano keys\n"
     ]
    }
   ],
   "source": [
    "class Instrument:\n",
    "    def play(self):\n",
    "        print(\"Instrument is being played\")\n",
    "\n",
    "class Guitar(Instrument):\n",
    "    def play(self):\n",
    "        print(\"Strumming the guitar\")\n",
    "\n",
    "class Piano(Instrument):\n",
    "    def play(self):\n",
    "        print(\"Playing the piano keys\")\n",
    "\n",
    "# Runtime polymorphism\n",
    "def play_music(instrument):\n",
    "    instrument.play()\n",
    "\n",
    "i1 = Guitar()\n",
    "i2 = Piano()\n",
    "\n",
    "play_music(i1)  \n",
    "play_music(i2)  "
   ]
  },
  {
   "cell_type": "markdown",
   "id": "f4c6d54d-992a-4460-b4b6-2827aff82a1f",
   "metadata": {},
   "source": [
    "# Q7. Create a class MathOperations with a class method add_numbers() to add two numbers and a static method subtract_numbers() to subtract two numbers."
   ]
  },
  {
   "cell_type": "code",
   "execution_count": 7,
   "id": "70673241-ab4a-4d75-b7fd-26f2045ac6b1",
   "metadata": {},
   "outputs": [
    {
     "name": "stdout",
     "output_type": "stream",
     "text": [
      "Addition: 15\n",
      "Subtraction: 5\n"
     ]
    }
   ],
   "source": [
    "class MathOperations:\n",
    "    @classmethod\n",
    "    def add_numbers(cls, a, b):\n",
    "        return a + b\n",
    "\n",
    "    @staticmethod\n",
    "    def subtract_numbers(a, b):\n",
    "        return a - b\n",
    "\n",
    "# Test\n",
    "print(\"Addition:\", MathOperations.add_numbers(10, 5))     \n",
    "print(\"Subtraction:\", MathOperations.subtract_numbers(10, 5))  "
   ]
  },
  {
   "cell_type": "markdown",
   "id": "e994bbce-b620-43de-9d27-8e5c2968ff10",
   "metadata": {},
   "source": [
    "# Q8. Implement a class Person with a class method to count the total number of persons created."
   ]
  },
  {
   "cell_type": "code",
   "execution_count": 8,
   "id": "78bfbb9a-facc-49a6-8851-2791a4e9ecd5",
   "metadata": {},
   "outputs": [
    {
     "name": "stdout",
     "output_type": "stream",
     "text": [
      "Total Persons Created: 3\n"
     ]
    }
   ],
   "source": [
    "class Person:\n",
    "    count = 0  \n",
    "\n",
    "    def __init__(self, name):\n",
    "        self.name = name\n",
    "        Person.count += 1\n",
    "\n",
    "    @classmethod\n",
    "    def total_persons(cls):\n",
    "        return cls.count\n",
    "\n",
    "# Test\n",
    "p1 = Person(\"Aiman\")\n",
    "p2 = Person(\"Khan\")\n",
    "p3 = Person(\"Sara\")\n",
    "\n",
    "print(\"Total Persons Created:\", Person.total_persons())  "
   ]
  },
  {
   "cell_type": "markdown",
   "id": "73758f48-12df-4ca4-97df-9f07896f7c18",
   "metadata": {},
   "source": [
    "# Q9. Write a class Fraction with attributes numerator and denominator. Override the str method to display the fraction as \"numerator/denominator\"."
   ]
  },
  {
   "cell_type": "code",
   "execution_count": 9,
   "id": "8e6eba18-d11e-4de9-a17a-46db1489c063",
   "metadata": {},
   "outputs": [
    {
     "name": "stdout",
     "output_type": "stream",
     "text": [
      "3/4\n"
     ]
    }
   ],
   "source": [
    "class Fraction:\n",
    "    def __init__(self, numerator, denominator):\n",
    "        self.numerator = numerator\n",
    "        self.denominator = denominator\n",
    "\n",
    "    def __str__(self):\n",
    "        return f\"{self.numerator}/{self.denominator}\"\n",
    "\n",
    "# Test\n",
    "f = Fraction(3, 4)\n",
    "print(f)  "
   ]
  },
  {
   "cell_type": "markdown",
   "id": "b4ab8da0-be39-4316-8611-95fb768ea832",
   "metadata": {},
   "source": [
    "# Q10. Demonstrate operator overloading by creating a class Vector and overriding the add method to add two vectors."
   ]
  },
  {
   "cell_type": "code",
   "execution_count": 10,
   "id": "bf5b8ca6-8d7e-48a8-bc9c-8810323c8614",
   "metadata": {},
   "outputs": [
    {
     "name": "stdout",
     "output_type": "stream",
     "text": [
      "Vector(6, 8)\n"
     ]
    }
   ],
   "source": [
    "class Vector:\n",
    "    def __init__(self, x, y):\n",
    "        self.x = x\n",
    "        self.y = y\n",
    "\n",
    "    def __add__(self, other):\n",
    "        return Vector(self.x + other.x, self.y + other.y)\n",
    "\n",
    "    def __str__(self):\n",
    "        return f\"Vector({self.x}, {self.y})\"\n",
    "\n",
    "# Test\n",
    "v1 = Vector(2, 3)\n",
    "v2 = Vector(4, 5)\n",
    "v3 = v1 + v2\n",
    "print(v3)  "
   ]
  },
  {
   "cell_type": "markdown",
   "id": "72541332-1dab-4b88-952b-1b44785e7a23",
   "metadata": {},
   "source": [
    "# Q11. Create a class Person with attributes name and age. Add a method greet() that prints \"Hello, my name is {name} and I am {age} years old.\""
   ]
  },
  {
   "cell_type": "code",
   "execution_count": 11,
   "id": "0ff45e43-3e1f-494c-bad2-10bc200184ee",
   "metadata": {},
   "outputs": [
    {
     "name": "stdout",
     "output_type": "stream",
     "text": [
      "Hello, my name is Aiman and I am 21 years old.\n"
     ]
    }
   ],
   "source": [
    "class Person:\n",
    "    def __init__(self, name, age):\n",
    "        self.name = name\n",
    "        self.age = age\n",
    "\n",
    "    def greet(self):\n",
    "        print(f\"Hello, my name is {self.name} and I am {self.age} years old.\")\n",
    "\n",
    "# Test\n",
    "p = Person(\"Aiman\", 21)\n",
    "p.greet()  "
   ]
  },
  {
   "cell_type": "markdown",
   "id": "36045bdb-6dcb-4e02-8430-0ca9bf7b8faa",
   "metadata": {},
   "source": [
    "# Q12. Implement a class Student with attributes name and grades. Create a method average_grade() to compute the average of the grades."
   ]
  },
  {
   "cell_type": "code",
   "execution_count": 12,
   "id": "1692657b-7d4c-4eab-8b29-c8af4c88179e",
   "metadata": {},
   "outputs": [
    {
     "name": "stdout",
     "output_type": "stream",
     "text": [
      "Khan's average grade: 86.25\n"
     ]
    }
   ],
   "source": [
    "class Student:\n",
    "    def __init__(self, name, grades):\n",
    "        self.name = name\n",
    "        self.grades = grades  \n",
    "\n",
    "    def average_grade(self):\n",
    "        if self.grades:\n",
    "            return sum(self.grades) / len(self.grades)\n",
    "        return 0\n",
    "\n",
    "# Test\n",
    "s = Student(\"Khan\", [85, 90, 78, 92])\n",
    "print(f\"{s.name}'s average grade:\", s.average_grade())  "
   ]
  },
  {
   "cell_type": "markdown",
   "id": "b91741b1-fc66-4630-a6e3-f2e515350573",
   "metadata": {},
   "source": [
    "# Q13. Create a class Rectangle with methods set_dimensions() to set the dimensions and area() to calculate the area."
   ]
  },
  {
   "cell_type": "code",
   "execution_count": 13,
   "id": "245b1dbb-8c7c-4225-a17f-7086d2253d0f",
   "metadata": {},
   "outputs": [
    {
     "name": "stdout",
     "output_type": "stream",
     "text": [
      "Area of rectangle: 15\n"
     ]
    }
   ],
   "source": [
    "class Rectangle:\n",
    "    def __init__(self):\n",
    "        self.length = 0\n",
    "        self.width = 0\n",
    "\n",
    "    def set_dimensions(self, length, width):\n",
    "        self.length = length\n",
    "        self.width = width\n",
    "\n",
    "    def area(self):\n",
    "        return self.length * self.width\n",
    "\n",
    "# Test\n",
    "rect = Rectangle()\n",
    "rect.set_dimensions(5, 3)\n",
    "print(\"Area of rectangle:\", rect.area()) "
   ]
  },
  {
   "cell_type": "markdown",
   "id": "13e325c0-dfba-453d-b22d-b0b65578c1ed",
   "metadata": {},
   "source": [
    "# Q14. Create a class Employee with a method calculate_salary() that computes the salary based on hours worked and hourly rate. Create a derived class Manager that adds a bonus to the salary."
   ]
  },
  {
   "cell_type": "code",
   "execution_count": 14,
   "id": "a5682ca0-7c91-48e6-a06b-61f034a65655",
   "metadata": {},
   "outputs": [
    {
     "name": "stdout",
     "output_type": "stream",
     "text": [
      "Employee Salary: 2000\n",
      "Manager Salary: 2500\n"
     ]
    }
   ],
   "source": [
    "class Employee:\n",
    "    def __init__(self, hours_worked, hourly_rate):\n",
    "        self.hours_worked = hours_worked\n",
    "        self.hourly_rate = hourly_rate\n",
    "\n",
    "    def calculate_salary(self):\n",
    "        return self.hours_worked * self.hourly_rate\n",
    "\n",
    "class Manager(Employee):\n",
    "    def __init__(self, hours_worked, hourly_rate, bonus):\n",
    "        super().__init__(hours_worked, hourly_rate)\n",
    "        self.bonus = bonus\n",
    "\n",
    "    def calculate_salary(self):\n",
    "        base_salary = super().calculate_salary()\n",
    "        return base_salary + self.bonus\n",
    "\n",
    "# Test\n",
    "emp = Employee(40, 50)\n",
    "print(\"Employee Salary:\", emp.calculate_salary())  \n",
    "\n",
    "mgr = Manager(40, 50, 500)\n",
    "print(\"Manager Salary:\", mgr.calculate_salary())  "
   ]
  },
  {
   "cell_type": "markdown",
   "id": "e8038aa3-2062-4a5a-8a47-c99b6bc7ca14",
   "metadata": {},
   "source": [
    "# Q15. Create a class Product with attributes name, price, and quantity. Implement a method total_price() that calculates the total price of the product."
   ]
  },
  {
   "cell_type": "code",
   "execution_count": 15,
   "id": "ce706507-eee7-47e2-9b51-d93b5daed79a",
   "metadata": {},
   "outputs": [
    {
     "name": "stdout",
     "output_type": "stream",
     "text": [
      "Total Price: 120000\n"
     ]
    }
   ],
   "source": [
    "class Product:\n",
    "    def __init__(self, name, price, quantity):\n",
    "        self.name = name\n",
    "        self.price = price\n",
    "        self.quantity = quantity\n",
    "\n",
    "    def total_price(self):\n",
    "        return self.price * self.quantity\n",
    "\n",
    "# Test\n",
    "p = Product(\"Laptop\", 60000, 2)\n",
    "print(\"Total Price:\", p.total_price()) "
   ]
  },
  {
   "cell_type": "markdown",
   "id": "9898d776-c3fc-49da-8927-4ae1e8b8d9d0",
   "metadata": {},
   "source": [
    "# Q16. Create a class Animal with an abstract method sound(). Create two derived classes Cow and Sheep that implement the sound() method."
   ]
  },
  {
   "cell_type": "code",
   "execution_count": 17,
   "id": "b3e7599a-37c3-4d03-9abc-cb87ad947f06",
   "metadata": {},
   "outputs": [
    {
     "name": "stdout",
     "output_type": "stream",
     "text": [
      "Cow sound: Moo\n",
      "Sheep sound: Baa\n"
     ]
    }
   ],
   "source": [
    "from abc import ABC, abstractmethod\n",
    "\n",
    "class Animal(ABC):\n",
    "    @abstractmethod\n",
    "    def sound(self):\n",
    "        pass\n",
    "\n",
    "class Cow(Animal):\n",
    "    def sound(self):\n",
    "        return \"Moo\"\n",
    "\n",
    "class Sheep(Animal):\n",
    "    def sound(self):\n",
    "        return \"Baa\"\n",
    "\n",
    "# Test\n",
    "cow = Cow()\n",
    "sheep = Sheep()\n",
    "print(\"Cow sound:\", cow.sound())     \n",
    "print(\"Sheep sound:\", sheep.sound()) "
   ]
  },
  {
   "cell_type": "markdown",
   "id": "717fb4d3-6d31-4b39-be5d-3b1303692536",
   "metadata": {},
   "source": [
    "# Q17. Create a class Book with attributes title, author, and year_published. Add a method get_book_info() that returns a formatted string with the book's details."
   ]
  },
  {
   "cell_type": "code",
   "execution_count": 16,
   "id": "fa400db8-e87f-4aec-9c71-388ef33faa81",
   "metadata": {},
   "outputs": [
    {
     "name": "stdout",
     "output_type": "stream",
     "text": [
      "'Atomic Habits' by James Clear, published in 2018.\n"
     ]
    }
   ],
   "source": [
    "class Book:\n",
    "    def __init__(self, title, author, year_published):\n",
    "        self.title = title\n",
    "        self.author = author\n",
    "        self.year_published = year_published\n",
    "\n",
    "    def get_book_info(self):\n",
    "        return f\"'{self.title}' by {self.author}, published in {self.year_published}.\"\n",
    "\n",
    "# Test\n",
    "book = Book(\"Atomic Habits\", \"James Clear\", 2018)\n",
    "print(book.get_book_info())"
   ]
  },
  {
   "cell_type": "markdown",
   "id": "9b3e3111-932f-43e5-b46d-42f04860de7a",
   "metadata": {},
   "source": [
    "# Q18. Create a class House with attributes address and price. Create a derived class Mansion that adds an attribute number_of_rooms."
   ]
  },
  {
   "cell_type": "code",
   "execution_count": 18,
   "id": "0bbeec66-eca5-40c5-8c4d-023a4aa9d67c",
   "metadata": {},
   "outputs": [
    {
     "name": "stdout",
     "output_type": "stream",
     "text": [
      "Address: 123 Luxury Lane, Price: 20000000, Rooms: 10\n"
     ]
    }
   ],
   "source": [
    "class House:\n",
    "    def __init__(self, address, price):\n",
    "        self.address = address\n",
    "        self.price = price\n",
    "\n",
    "class Mansion(House):\n",
    "    def __init__(self, address, price, number_of_rooms):\n",
    "        super().__init__(address, price)\n",
    "        self.number_of_rooms = number_of_rooms\n",
    "\n",
    "# Test\n",
    "m = Mansion(\"123 Luxury Lane\", 20000000, 10)\n",
    "print(f\"Address: {m.address}, Price: {m.price}, Rooms: {m.number_of_rooms}\")"
   ]
  },
  {
   "cell_type": "code",
   "execution_count": null,
   "id": "fa9c2e68-7fba-4017-b18b-cdf845c764d5",
   "metadata": {},
   "outputs": [],
   "source": []
  }
 ],
 "metadata": {
  "kernelspec": {
   "display_name": "Python 3 (ipykernel)",
   "language": "python",
   "name": "python3"
  },
  "language_info": {
   "codemirror_mode": {
    "name": "ipython",
    "version": 3
   },
   "file_extension": ".py",
   "mimetype": "text/x-python",
   "name": "python",
   "nbconvert_exporter": "python",
   "pygments_lexer": "ipython3",
   "version": "3.12.5"
  }
 },
 "nbformat": 4,
 "nbformat_minor": 5
}
